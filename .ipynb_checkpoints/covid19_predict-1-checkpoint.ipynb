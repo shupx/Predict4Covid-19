{
 "cells": [
  {
   "cell_type": "code",
   "execution_count": 1,
   "id": "arabic-asthma",
   "metadata": {},
   "outputs": [],
   "source": [
    "import torch\n",
    "import torchtext\n",
    "import torch.nn as nn\n",
    "import torch.nn.functional as F\n",
    "import numpy as np\n",
    "import pandas as pd\n",
    "from tqdm import tqdm\n",
    "import matplotlib.pyplot as plt\n",
    "%matplotlib inline"
   ]
  },
  {
   "cell_type": "code",
   "execution_count": 2,
   "id": "minimal-greensboro",
   "metadata": {},
   "outputs": [],
   "source": [
    "data = pd.read_csv('./time_series_covid19_confirmed_global.csv')"
   ]
  },
  {
   "cell_type": "code",
   "execution_count": 3,
   "id": "occasional-addition",
   "metadata": {},
   "outputs": [],
   "source": [
    "data.drop('Province/State', axis=1, inplace=True)\n",
    "data.drop('Lat', axis=1, inplace=True)\n",
    "data.drop('Long', axis=1, inplace=True)\n",
    "data.columns = np.concatenate((np.array(['Country/Region']),np.arange(len(data.columns[1:]))))"
   ]
  },
  {
   "cell_type": "code",
   "execution_count": 4,
   "id": "unexpected-captain",
   "metadata": {},
   "outputs": [
    {
     "data": {
      "text/html": [
       "<div>\n",
       "<style scoped>\n",
       "    .dataframe tbody tr th:only-of-type {\n",
       "        vertical-align: middle;\n",
       "    }\n",
       "\n",
       "    .dataframe tbody tr th {\n",
       "        vertical-align: top;\n",
       "    }\n",
       "\n",
       "    .dataframe thead th {\n",
       "        text-align: right;\n",
       "    }\n",
       "</style>\n",
       "<table border=\"1\" class=\"dataframe\">\n",
       "  <thead>\n",
       "    <tr style=\"text-align: right;\">\n",
       "      <th></th>\n",
       "      <th>Country/Region</th>\n",
       "      <th>0</th>\n",
       "      <th>1</th>\n",
       "      <th>2</th>\n",
       "      <th>3</th>\n",
       "      <th>4</th>\n",
       "      <th>5</th>\n",
       "      <th>6</th>\n",
       "      <th>7</th>\n",
       "      <th>8</th>\n",
       "      <th>...</th>\n",
       "      <th>566</th>\n",
       "      <th>567</th>\n",
       "      <th>568</th>\n",
       "      <th>569</th>\n",
       "      <th>570</th>\n",
       "      <th>571</th>\n",
       "      <th>572</th>\n",
       "      <th>573</th>\n",
       "      <th>574</th>\n",
       "      <th>575</th>\n",
       "    </tr>\n",
       "  </thead>\n",
       "  <tbody>\n",
       "    <tr>\n",
       "      <th>0</th>\n",
       "      <td>Afghanistan</td>\n",
       "      <td>0</td>\n",
       "      <td>0</td>\n",
       "      <td>0</td>\n",
       "      <td>0</td>\n",
       "      <td>0</td>\n",
       "      <td>0</td>\n",
       "      <td>0</td>\n",
       "      <td>0</td>\n",
       "      <td>0</td>\n",
       "      <td>...</td>\n",
       "      <td>151013</td>\n",
       "      <td>151291</td>\n",
       "      <td>151563</td>\n",
       "      <td>151770</td>\n",
       "      <td>151770</td>\n",
       "      <td>151770</td>\n",
       "      <td>152142</td>\n",
       "      <td>152243</td>\n",
       "      <td>152363</td>\n",
       "      <td>152411</td>\n",
       "    </tr>\n",
       "    <tr>\n",
       "      <th>1</th>\n",
       "      <td>Albania</td>\n",
       "      <td>0</td>\n",
       "      <td>0</td>\n",
       "      <td>0</td>\n",
       "      <td>0</td>\n",
       "      <td>0</td>\n",
       "      <td>0</td>\n",
       "      <td>0</td>\n",
       "      <td>0</td>\n",
       "      <td>0</td>\n",
       "      <td>...</td>\n",
       "      <td>134201</td>\n",
       "      <td>134487</td>\n",
       "      <td>134761</td>\n",
       "      <td>135140</td>\n",
       "      <td>135550</td>\n",
       "      <td>135947</td>\n",
       "      <td>136147</td>\n",
       "      <td>136598</td>\n",
       "      <td>137075</td>\n",
       "      <td>137597</td>\n",
       "    </tr>\n",
       "    <tr>\n",
       "      <th>2</th>\n",
       "      <td>Algeria</td>\n",
       "      <td>0</td>\n",
       "      <td>0</td>\n",
       "      <td>0</td>\n",
       "      <td>0</td>\n",
       "      <td>0</td>\n",
       "      <td>0</td>\n",
       "      <td>0</td>\n",
       "      <td>0</td>\n",
       "      <td>0</td>\n",
       "      <td>...</td>\n",
       "      <td>183347</td>\n",
       "      <td>184191</td>\n",
       "      <td>185042</td>\n",
       "      <td>185902</td>\n",
       "      <td>186655</td>\n",
       "      <td>187258</td>\n",
       "      <td>187968</td>\n",
       "      <td>188663</td>\n",
       "      <td>189384</td>\n",
       "      <td>190078</td>\n",
       "    </tr>\n",
       "    <tr>\n",
       "      <th>3</th>\n",
       "      <td>Andorra</td>\n",
       "      <td>0</td>\n",
       "      <td>0</td>\n",
       "      <td>0</td>\n",
       "      <td>0</td>\n",
       "      <td>0</td>\n",
       "      <td>0</td>\n",
       "      <td>0</td>\n",
       "      <td>0</td>\n",
       "      <td>0</td>\n",
       "      <td>...</td>\n",
       "      <td>14873</td>\n",
       "      <td>14891</td>\n",
       "      <td>14908</td>\n",
       "      <td>14924</td>\n",
       "      <td>14924</td>\n",
       "      <td>14924</td>\n",
       "      <td>14954</td>\n",
       "      <td>14960</td>\n",
       "      <td>14976</td>\n",
       "      <td>14981</td>\n",
       "    </tr>\n",
       "    <tr>\n",
       "      <th>4</th>\n",
       "      <td>Angola</td>\n",
       "      <td>0</td>\n",
       "      <td>0</td>\n",
       "      <td>0</td>\n",
       "      <td>0</td>\n",
       "      <td>0</td>\n",
       "      <td>0</td>\n",
       "      <td>0</td>\n",
       "      <td>0</td>\n",
       "      <td>0</td>\n",
       "      <td>...</td>\n",
       "      <td>43890</td>\n",
       "      <td>43998</td>\n",
       "      <td>44174</td>\n",
       "      <td>44328</td>\n",
       "      <td>44534</td>\n",
       "      <td>44617</td>\n",
       "      <td>44739</td>\n",
       "      <td>44972</td>\n",
       "      <td>45175</td>\n",
       "      <td>45325</td>\n",
       "    </tr>\n",
       "    <tr>\n",
       "      <th>...</th>\n",
       "      <td>...</td>\n",
       "      <td>...</td>\n",
       "      <td>...</td>\n",
       "      <td>...</td>\n",
       "      <td>...</td>\n",
       "      <td>...</td>\n",
       "      <td>...</td>\n",
       "      <td>...</td>\n",
       "      <td>...</td>\n",
       "      <td>...</td>\n",
       "      <td>...</td>\n",
       "      <td>...</td>\n",
       "      <td>...</td>\n",
       "      <td>...</td>\n",
       "      <td>...</td>\n",
       "      <td>...</td>\n",
       "      <td>...</td>\n",
       "      <td>...</td>\n",
       "      <td>...</td>\n",
       "      <td>...</td>\n",
       "      <td>...</td>\n",
       "    </tr>\n",
       "    <tr>\n",
       "      <th>274</th>\n",
       "      <td>Vietnam</td>\n",
       "      <td>0</td>\n",
       "      <td>2</td>\n",
       "      <td>2</td>\n",
       "      <td>2</td>\n",
       "      <td>2</td>\n",
       "      <td>2</td>\n",
       "      <td>2</td>\n",
       "      <td>2</td>\n",
       "      <td>2</td>\n",
       "      <td>...</td>\n",
       "      <td>232937</td>\n",
       "      <td>241543</td>\n",
       "      <td>246568</td>\n",
       "      <td>255748</td>\n",
       "      <td>265464</td>\n",
       "      <td>275044</td>\n",
       "      <td>283696</td>\n",
       "      <td>293301</td>\n",
       "      <td>302101</td>\n",
       "      <td>312611</td>\n",
       "    </tr>\n",
       "    <tr>\n",
       "      <th>275</th>\n",
       "      <td>West Bank and Gaza</td>\n",
       "      <td>0</td>\n",
       "      <td>0</td>\n",
       "      <td>0</td>\n",
       "      <td>0</td>\n",
       "      <td>0</td>\n",
       "      <td>0</td>\n",
       "      <td>0</td>\n",
       "      <td>0</td>\n",
       "      <td>0</td>\n",
       "      <td>...</td>\n",
       "      <td>318181</td>\n",
       "      <td>318435</td>\n",
       "      <td>319223</td>\n",
       "      <td>319646</td>\n",
       "      <td>320034</td>\n",
       "      <td>320034</td>\n",
       "      <td>321031</td>\n",
       "      <td>321031</td>\n",
       "      <td>322620</td>\n",
       "      <td>323582</td>\n",
       "    </tr>\n",
       "    <tr>\n",
       "      <th>276</th>\n",
       "      <td>Yemen</td>\n",
       "      <td>0</td>\n",
       "      <td>0</td>\n",
       "      <td>0</td>\n",
       "      <td>0</td>\n",
       "      <td>0</td>\n",
       "      <td>0</td>\n",
       "      <td>0</td>\n",
       "      <td>0</td>\n",
       "      <td>0</td>\n",
       "      <td>...</td>\n",
       "      <td>7198</td>\n",
       "      <td>7213</td>\n",
       "      <td>7233</td>\n",
       "      <td>7256</td>\n",
       "      <td>7273</td>\n",
       "      <td>7293</td>\n",
       "      <td>7308</td>\n",
       "      <td>7347</td>\n",
       "      <td>7372</td>\n",
       "      <td>7407</td>\n",
       "    </tr>\n",
       "    <tr>\n",
       "      <th>277</th>\n",
       "      <td>Zambia</td>\n",
       "      <td>0</td>\n",
       "      <td>0</td>\n",
       "      <td>0</td>\n",
       "      <td>0</td>\n",
       "      <td>0</td>\n",
       "      <td>0</td>\n",
       "      <td>0</td>\n",
       "      <td>0</td>\n",
       "      <td>0</td>\n",
       "      <td>...</td>\n",
       "      <td>200830</td>\n",
       "      <td>201342</td>\n",
       "      <td>201770</td>\n",
       "      <td>201867</td>\n",
       "      <td>202078</td>\n",
       "      <td>202261</td>\n",
       "      <td>202429</td>\n",
       "      <td>202787</td>\n",
       "      <td>203169</td>\n",
       "      <td>203553</td>\n",
       "    </tr>\n",
       "    <tr>\n",
       "      <th>278</th>\n",
       "      <td>Zimbabwe</td>\n",
       "      <td>0</td>\n",
       "      <td>0</td>\n",
       "      <td>0</td>\n",
       "      <td>0</td>\n",
       "      <td>0</td>\n",
       "      <td>0</td>\n",
       "      <td>0</td>\n",
       "      <td>0</td>\n",
       "      <td>0</td>\n",
       "      <td>...</td>\n",
       "      <td>117258</td>\n",
       "      <td>117954</td>\n",
       "      <td>118754</td>\n",
       "      <td>119508</td>\n",
       "      <td>119853</td>\n",
       "      <td>120088</td>\n",
       "      <td>120088</td>\n",
       "      <td>121046</td>\n",
       "      <td>121498</td>\n",
       "      <td>121902</td>\n",
       "    </tr>\n",
       "  </tbody>\n",
       "</table>\n",
       "<p>279 rows × 577 columns</p>\n",
       "</div>"
      ],
      "text/plain": [
       "         Country/Region  0  1  2  3  4  5  6  7  8  ...     566     567  \\\n",
       "0           Afghanistan  0  0  0  0  0  0  0  0  0  ...  151013  151291   \n",
       "1               Albania  0  0  0  0  0  0  0  0  0  ...  134201  134487   \n",
       "2               Algeria  0  0  0  0  0  0  0  0  0  ...  183347  184191   \n",
       "3               Andorra  0  0  0  0  0  0  0  0  0  ...   14873   14891   \n",
       "4                Angola  0  0  0  0  0  0  0  0  0  ...   43890   43998   \n",
       "..                  ... .. .. .. .. .. .. .. .. ..  ...     ...     ...   \n",
       "274             Vietnam  0  2  2  2  2  2  2  2  2  ...  232937  241543   \n",
       "275  West Bank and Gaza  0  0  0  0  0  0  0  0  0  ...  318181  318435   \n",
       "276               Yemen  0  0  0  0  0  0  0  0  0  ...    7198    7213   \n",
       "277              Zambia  0  0  0  0  0  0  0  0  0  ...  200830  201342   \n",
       "278            Zimbabwe  0  0  0  0  0  0  0  0  0  ...  117258  117954   \n",
       "\n",
       "        568     569     570     571     572     573     574     575  \n",
       "0    151563  151770  151770  151770  152142  152243  152363  152411  \n",
       "1    134761  135140  135550  135947  136147  136598  137075  137597  \n",
       "2    185042  185902  186655  187258  187968  188663  189384  190078  \n",
       "3     14908   14924   14924   14924   14954   14960   14976   14981  \n",
       "4     44174   44328   44534   44617   44739   44972   45175   45325  \n",
       "..      ...     ...     ...     ...     ...     ...     ...     ...  \n",
       "274  246568  255748  265464  275044  283696  293301  302101  312611  \n",
       "275  319223  319646  320034  320034  321031  321031  322620  323582  \n",
       "276    7233    7256    7273    7293    7308    7347    7372    7407  \n",
       "277  201770  201867  202078  202261  202429  202787  203169  203553  \n",
       "278  118754  119508  119853  120088  120088  121046  121498  121902  \n",
       "\n",
       "[279 rows x 577 columns]"
      ]
     },
     "execution_count": 4,
     "metadata": {},
     "output_type": "execute_result"
    }
   ],
   "source": [
    "data"
   ]
  },
  {
   "cell_type": "code",
   "execution_count": 5,
   "id": "latest-flooring",
   "metadata": {},
   "outputs": [],
   "source": [
    "Confirmed = {'Brazil':[],'India':[],'United Kingdom':[],'Russia':[],'US':[]}\n",
    "for index,row in data.iterrows():\n",
    "    for key in Confirmed:\n",
    "        if row['Country/Region'] == key:\n",
    "            d = data.iloc[index][1:].astype(np.float32).values\n",
    "            m = np.zeros_like(d)\n",
    "            for j in range(1,len(d)):\n",
    "                m[j] = d[j] - d[j-1]\n",
    "            Confirmed[key].append(m)"
   ]
  },
  {
   "cell_type": "code",
   "execution_count": 6,
   "id": "pleased-reputation",
   "metadata": {},
   "outputs": [
    {
     "name": "stdout",
     "output_type": "stream",
     "text": [
      "1\n",
      "1\n",
      "12\n",
      "1\n",
      "1\n",
      "576\n"
     ]
    }
   ],
   "source": [
    "print(len(Confirmed['Brazil']))\n",
    "print(len(Confirmed['India']))\n",
    "print(len(Confirmed['United Kingdom']))\n",
    "print(len(Confirmed['US']))\n",
    "print(len(Confirmed['Russia']))\n",
    "timeLength = len(Confirmed['Brazil'][0])\n",
    "print(timeLength)"
   ]
  },
  {
   "cell_type": "code",
   "execution_count": 7,
   "id": "moved-child",
   "metadata": {},
   "outputs": [],
   "source": [
    "Confirmed['United Kingdom'] = [np.sum(np.array(Confirmed['United Kingdom']),axis=0)]"
   ]
  },
  {
   "cell_type": "code",
   "execution_count": 8,
   "id": "aging-working",
   "metadata": {},
   "outputs": [
    {
     "data": {
      "text/plain": [
       "Text(0.5, 1.0, 'Number of confirmed cases in a single day in Brazil')"
      ]
     },
     "execution_count": 8,
     "metadata": {},
     "output_type": "execute_result"
    },
    {
     "data": {
      "image/png": "[encoded data removed]",
      "text/plain": [
       "<Figure size 432x288 with 1 Axes>"
      ]
     },
     "metadata": {
      "needs_background": "light"
     },
     "output_type": "display_data"
    }
   ],
   "source": [
    "plt.plot(Confirmed['Brazil'][0])\n",
    "plt.title('Number of confirmed cases in a single day in Brazil')"
   ]
  },
  {
   "cell_type": "code",
   "execution_count": 9,
   "id": "received-mumbai",
   "metadata": {},
   "outputs": [],
   "source": [
    "sequence_length= 14\n",
    "delay = 1\n",
    "def func(country):\n",
    "    dataCountry = []\n",
    "    for i in range(timeLength - sequence_length -delay + 1):\n",
    "        dataCountry.append(Confirmed[country][0][i:i+sequence_length+delay])\n",
    "    dataCountry = np.array(dataCountry)\n",
    "    x_train = dataCountry[:,:sequence_length]\n",
    "    y_train = dataCountry[:,-1]\n",
    "    return np.expand_dims(x_train,2),y_train"
   ]
  },
  {
   "cell_type": "code",
   "execution_count": 10,
   "id": "legislative-christian",
   "metadata": {},
   "outputs": [],
   "source": [
    "x_Brazil,y_Brazil = func('Brazil')\n",
    "x_India,y_India = func('India')\n",
    "x_Russia,y_Russia = func('Russia')\n",
    "x_UK,y_UK = func('United Kingdom')\n",
    "x_US,y_US = func('US')"
   ]
  },
  {
   "cell_type": "code",
   "execution_count": 11,
   "id": "empirical-pathology",
   "metadata": {},
   "outputs": [],
   "source": [
    "def norm(country,x,y):\n",
    "    x = x / np.max(Confirmed[country][0])\n",
    "    y = y / np.max(Confirmed[country][0])\n",
    "    return x, y"
   ]
  },
  {
   "cell_type": "code",
   "execution_count": 12,
   "id": "formal-involvement",
   "metadata": {},
   "outputs": [],
   "source": [
    "x_Brazil, y_Brazil = norm('Brazil',x_Brazil, y_Brazil)\n",
    "x_India, y_India = norm('India',x_India, y_India)\n",
    "x_Russia, y_Russia = norm('Russia',x_Russia, y_Russia)\n",
    "x_UK, y_UK = norm('United Kingdom',x_UK, y_UK)\n",
    "x_US, y_US = norm('US',x_US,y_US)"
   ]
  },
  {
   "cell_type": "code",
   "execution_count": 13,
   "id": "broke-metallic",
   "metadata": {},
   "outputs": [],
   "source": [
    "from sklearn.model_selection import train_test_split\n",
    "train_x_Brazil,test_x_Brazil,train_y_Brazil,test_y_Brazil = train_test_split(x_Brazil,y_Brazil)\n",
    "train_x_India,test_x_India,train_y_India,test_y_India = train_test_split(x_India,y_India)\n",
    "train_x_Russia,test_x_Russia,train_y_Russia,test_y_Russia = train_test_split(x_Russia,y_Russia)\n",
    "train_x_UK,test_x_UK,train_y_UK,test_y_UK = train_test_split(x_UK,y_UK)\n",
    "train_x_US,test_x_US,train_y_US,test_y_US = train_test_split(x_US,y_US)"
   ]
  },
  {
   "cell_type": "code",
   "execution_count": 14,
   "id": "molecular-heritage",
   "metadata": {},
   "outputs": [],
   "source": [
    "class Mydataset(torch.utils.data.Dataset):\n",
    "    def __init__(self, features, labels):\n",
    "        self.features = features\n",
    "        self.labels = labels\n",
    "        \n",
    "    def __getitem__(self, index):\n",
    "        feature = self.features[index]\n",
    "        label = self.labels[index]\n",
    "        return feature, label\n",
    "\n",
    "    def __len__(self):\n",
    "        return len(self.features)"
   ]
  },
  {
   "cell_type": "code",
   "execution_count": 15,
   "id": "happy-behalf",
   "metadata": {},
   "outputs": [],
   "source": [
    "train_Brazil_dataset = Mydataset(train_x_Brazil,train_y_Brazil)\n",
    "test_Brazil_dataset = Mydataset(test_x_Brazil,test_y_Brazil)\n",
    "train_India_dataset = Mydataset(train_x_India,train_y_India)\n",
    "test_India_dataset = Mydataset(test_x_India,test_y_India)\n",
    "train_Russia_dataset = Mydataset(train_x_Russia,train_y_Russia)\n",
    "test_Russia_dataset = Mydataset(test_x_Russia,test_y_Russia)\n",
    "train_UK_dataset = Mydataset(train_x_UK,train_y_UK)\n",
    "test_UK_dataset = Mydataset(test_x_UK,test_y_UK)\n",
    "train_US_dataset = Mydataset(train_x_US,train_y_US)\n",
    "test_US_dataset = Mydataset(test_x_US,test_y_US)"
   ]
  },
  {
   "cell_type": "code",
   "execution_count": 16,
   "id": "involved-western",
   "metadata": {},
   "outputs": [],
   "source": [
    "BTACH_SIZE = 64\n",
    "train_Brazil_dl = torch.utils.data.DataLoader(train_Brazil_dataset,batch_size=BTACH_SIZE,shuffle=True)\n",
    "test_Brazil_dl = torch.utils.data.DataLoader(test_Brazil_dataset,batch_size=BTACH_SIZE)\n",
    "train_India_dl = torch.utils.data.DataLoader(train_India_dataset,batch_size=BTACH_SIZE,shuffle=True)\n",
    "test_India_dl = torch.utils.data.DataLoader(test_India_dataset,batch_size=BTACH_SIZE)\n",
    "train_Russia_dl = torch.utils.data.DataLoader(train_Russia_dataset,batch_size=BTACH_SIZE,shuffle=True)\n",
    "test_Russia_dl = torch.utils.data.DataLoader(test_Russia_dataset,batch_size=BTACH_SIZE)\n",
    "train_UK_dl = torch.utils.data.DataLoader(train_UK_dataset,batch_size=BTACH_SIZE,shuffle=True)\n",
    "test_UK_dl = torch.utils.data.DataLoader(test_UK_dataset,batch_size=BTACH_SIZE)\n",
    "train_US_dl = torch.utils.data.DataLoader(train_US_dataset,batch_size=BTACH_SIZE,shuffle=True)\n",
    "test_US_dl = torch.utils.data.DataLoader(test_US_dataset,batch_size=BTACH_SIZE)"
   ]
  },
  {
   "cell_type": "code",
   "execution_count": 17,
   "id": "fitted-parking",
   "metadata": {},
   "outputs": [],
   "source": [
    "hidden_size = 128\n",
    "class Net(nn.Module):\n",
    "    # GRU实现 \n",
    "    def __init__(self,hidden_size):\n",
    "        super().__init__()\n",
    "        self.num_layers = 3\n",
    "        self.rnn = nn.GRU(1,hidden_size,num_layers=self.num_layers,batch_first=True)\n",
    "        self.fc1 = nn.Linear(hidden_size, 256)\n",
    "        self.fc2 = nn.Linear(256, 1)\n",
    "    def forward(self,inputs):\n",
    "        _,hn = self.rnn(inputs)\n",
    "        x = F.dropout(F.relu(self.fc1(hn)))\n",
    "        x = self.fc2(x)\n",
    "        x = torch.sum(x,axis=0)\n",
    "        return x.squeeze()\n",
    "    \n",
    "# class Net(nn.Module):\n",
    "#     # LSTM实现 \n",
    "#     def __init__(self, hidden_size):\n",
    "#         super(Net, self).__init__()\n",
    "#         self.rnn = nn.LSTM(1, hidden_size,num_layers=4,batch_first=True)\n",
    "#         self.fc1 = nn.Linear(hidden_size, 256)\n",
    "#         self.fc2 = nn.Linear(256, 1)\n",
    "\n",
    "#     def forward(self, inputs):\n",
    "#         _, s_o = self.rnn(inputs)\n",
    "#         s_o = s_o[-1]\n",
    "#         x = F.dropout(F.relu(self.fc1(s_o)))\n",
    "#         x = self.fc2(x)\n",
    "#         x = torch.sum(x,axis=0)\n",
    "#         return torch.squeeze(x)"
   ]
  },
  {
   "cell_type": "code",
   "execution_count": 18,
   "id": "smoking-target",
   "metadata": {},
   "outputs": [],
   "source": [
    "model_Brazil = Net(hidden_size)\n",
    "model_India = Net(hidden_size)\n",
    "model_Russia = Net(hidden_size)\n",
    "model_UK = Net(hidden_size)\n",
    "model_US = Net(hidden_size)"
   ]
  },
  {
   "cell_type": "code",
   "execution_count": 19,
   "id": "equal-domestic",
   "metadata": {},
   "outputs": [],
   "source": [
    "if torch.cuda.is_available():\n",
    "    model_India.to('cuda')\n",
    "    model_Brazil.to('cuda')\n",
    "    model_Russia.to('cuda')\n",
    "    model_UK.to('cuda')\n",
    "    model_US.to('cuda')"
   ]
  },
  {
   "cell_type": "code",
   "execution_count": 20,
   "id": "juvenile-rover",
   "metadata": {},
   "outputs": [],
   "source": [
    "loss_fn = nn.MSELoss()\n",
    "optimizer_Brazil = torch.optim.Adam(model_Brazil.parameters(), lr=1e-3)\n",
    "optimizer_India = torch.optim.Adam(model_India.parameters(), lr=1e-3)\n",
    "optimizer_Russia = torch.optim.Adam(model_Russia.parameters(), lr=1e-3)\n",
    "optimizer_UK = torch.optim.Adam(model_UK.parameters(), lr=1e-3)\n",
    "optimizer_US = torch.optim.Adam(model_US.parameters(), lr=1e-3)"
   ]
  },
  {
   "cell_type": "code",
   "execution_count": 21,
   "id": "proper-kingston",
   "metadata": {},
   "outputs": [],
   "source": [
    "def fit(epoch, model, trainloader, testloader,optimizer):\n",
    "    total = 0\n",
    "    running_loss = 0\n",
    "    \n",
    "    model.train()\n",
    "    for x, y in trainloader:\n",
    "        if torch.cuda.is_available():\n",
    "            x, y = x.to('cuda'), y.to('cuda')\n",
    "        y_pred = model(x)\n",
    "        loss = loss_fn(y_pred, y)\n",
    "        optimizer.zero_grad()\n",
    "        loss.backward()\n",
    "        optimizer.step()\n",
    "        with torch.no_grad():\n",
    "            total += y.size(0)\n",
    "            running_loss += loss.item()\n",
    "#    exp_lr_scheduler.step()\n",
    "    epoch_loss = running_loss / len(trainloader.dataset)\n",
    "        \n",
    "        \n",
    "    test_total = 0\n",
    "    test_running_loss = 0 \n",
    "    \n",
    "    model.eval()\n",
    "    with torch.no_grad():\n",
    "        for x, y in testloader:\n",
    "            if torch.cuda.is_available():\n",
    "                x, y = x.to('cuda'), y.to('cuda')\n",
    "            y_pred = model(x)\n",
    "            loss = loss_fn(y_pred, y)\n",
    "            test_total += y.size(0)\n",
    "            test_running_loss += loss.item()\n",
    "    \n",
    "    epoch_test_loss = test_running_loss / len(testloader.dataset)\n",
    "        \n",
    "#     print('epoch: ', epoch, \n",
    "#           'loss： ', round(epoch_loss, 6),\n",
    "#           'test_loss： ', round(epoch_test_loss, 6),\n",
    "#              )\n",
    "        \n",
    "    return epoch_loss, epoch_test_loss"
   ]
  },
  {
   "cell_type": "code",
   "execution_count": 22,
   "id": "confidential-google",
   "metadata": {},
   "outputs": [],
   "source": [
    "def pltLoss(train_loss,test_loss):\n",
    "    plt.figure()\n",
    "    plt.plot(train_loss)\n",
    "    plt.plot(test_loss)\n",
    "    plt.legend(['train_loss','test_loss'])"
   ]
  },
  {
   "cell_type": "code",
   "execution_count": 23,
   "id": "approved-failing",
   "metadata": {},
   "outputs": [
    {
     "name": "stderr",
     "output_type": "stream",
     "text": [
      "100%|████████████████████████████████████████████████████████████████████████████████| 200/200 [00:09<00:00, 21.82it/s]\n"
     ]
    }
   ],
   "source": [
    "train_loss = []\n",
    "test_loss = []\n",
    "epochs = 200\n",
    "bestModel_Brazil = None\n",
    "bestLoss = np.inf\n",
    "for epoch in tqdm(range(epochs),total=epochs,smoothing=0.9):\n",
    "    epoch_loss, epoch_test_loss = fit(epoch,model_Brazil,train_Brazil_dl,test_Brazil_dl,optimizer_Brazil)\n",
    "    train_loss.append(epoch_loss)\n",
    "    test_loss.append(epoch_test_loss)\n",
    "    if epoch_test_loss<bestLoss:\n",
    "        bestLoss = epoch_test_loss\n",
    "        bestModel_Brazil = model_Brazil"
   ]
  },
  {
   "cell_type": "code",
   "execution_count": 24,
   "id": "automotive-running",
   "metadata": {},
   "outputs": [
    {
     "data": {
      "image/png": "[encoded data removed]",
      "text/plain": [
       "<Figure size 432x288 with 1 Axes>"
      ]
     },
     "metadata": {
      "needs_background": "light"
     },
     "output_type": "display_data"
    }
   ],
   "source": [
    "pltLoss(train_loss,test_loss)"
   ]
  },
  {
   "cell_type": "code",
   "execution_count": 25,
   "id": "reliable-hampton",
   "metadata": {},
   "outputs": [
    {
     "name": "stderr",
     "output_type": "stream",
     "text": [
      "100%|████████████████████████████████████████████████████████████████████████████████| 200/200 [00:08<00:00, 22.55it/s]\n"
     ]
    }
   ],
   "source": [
    "train_loss = []\n",
    "test_loss = []\n",
    "epochs = 200\n",
    "bestModel_India = None\n",
    "bestLoss = np.inf\n",
    "for epoch in tqdm(range(epochs),total=epochs,smoothing=0.9):\n",
    "    epoch_loss, epoch_test_loss = fit(epoch,model_India,train_India_dl,test_India_dl,optimizer_India)\n",
    "    train_loss.append(epoch_loss)\n",
    "    test_loss.append(epoch_test_loss)\n",
    "    if epoch_test_loss < bestLoss:\n",
    "        bestLoss = epoch_test_loss\n",
    "        bestModel_India = model_India"
   ]
  },
  {
   "cell_type": "code",
   "execution_count": 26,
   "id": "advance-serum",
   "metadata": {},
   "outputs": [
    {
     "data": {
      "image/png": "[encoded data removed]",
      "text/plain": [
       "<Figure size 432x288 with 1 Axes>"
      ]
     },
     "metadata": {
      "needs_background": "light"
     },
     "output_type": "display_data"
    }
   ],
   "source": [
    "pltLoss(train_loss,test_loss)"
   ]
  },
  {
   "cell_type": "code",
   "execution_count": 27,
   "id": "caring-charm",
   "metadata": {},
   "outputs": [
    {
     "name": "stderr",
     "output_type": "stream",
     "text": [
      "100%|████████████████████████████████████████████████████████████████████████████████| 200/200 [00:08<00:00, 22.74it/s]\n"
     ]
    }
   ],
   "source": [
    "train_loss = []\n",
    "test_loss = []\n",
    "epochs = 200\n",
    "bestModel_Russia = None\n",
    "bestLoss = np.inf\n",
    "for epoch in tqdm(range(epochs),total=epochs,smoothing=0.9):\n",
    "    epoch_loss, epoch_test_loss = fit(epoch,model_Russia,train_Russia_dl,test_Russia_dl,optimizer_Russia)\n",
    "    train_loss.append(epoch_loss)\n",
    "    test_loss.append(epoch_test_loss)\n",
    "    if epoch_test_loss<bestLoss:\n",
    "        bestLoss = epoch_test_loss\n",
    "        bestModel_Russia = model_Russia"
   ]
  },
  {
   "cell_type": "code",
   "execution_count": 28,
   "id": "fuzzy-setting",
   "metadata": {},
   "outputs": [
    {
     "data": {
      "image/png": "[encoded data removed]",
      "text/plain": [
       "<Figure size 432x288 with 1 Axes>"
      ]
     },
     "metadata": {
      "needs_background": "light"
     },
     "output_type": "display_data"
    }
   ],
   "source": [
    "pltLoss(train_loss,test_loss)"
   ]
  },
  {
   "cell_type": "code",
   "execution_count": null,
   "id": "italian-sense",
   "metadata": {},
   "outputs": [
    {
     "name": "stderr",
     "output_type": "stream",
     "text": [
      " 68%|██████████████████████████████████████████████████████                          | 135/200 [00:05<00:02, 23.54it/s]"
     ]
    }
   ],
   "source": [
    "train_loss = []\n",
    "test_loss = []\n",
    "epochs = 200\n",
    "bestModel_UK = None\n",
    "bestLoss = np.inf\n",
    "for epoch in tqdm(range(epochs),total=epochs,smoothing=0.9):\n",
    "    epoch_loss, epoch_test_loss = fit(epoch,model_UK,train_UK_dl,test_UK_dl,optimizer_UK)\n",
    "    train_loss.append(epoch_loss)\n",
    "    test_loss.append(epoch_test_loss)\n",
    "    if epoch_test_loss<bestLoss:\n",
    "        bestLoss = epoch_test_loss\n",
    "        bestModel_UK = model_UK"
   ]
  },
  {
   "cell_type": "code",
   "execution_count": null,
   "id": "governmental-leadership",
   "metadata": {},
   "outputs": [],
   "source": [
    "pltLoss(train_loss,test_loss)"
   ]
  },
  {
   "cell_type": "code",
   "execution_count": null,
   "id": "sublime-manor",
   "metadata": {},
   "outputs": [],
   "source": [
    "train_loss = []\n",
    "test_loss = []\n",
    "epochs = 200\n",
    "bestModel_US = None\n",
    "bestLoss = np.inf\n",
    "for epoch in tqdm(range(epochs),total=epochs,smoothing=0.9):\n",
    "    epoch_loss, epoch_test_loss = fit(epoch,model_US,train_US_dl,test_US_dl,optimizer_US)\n",
    "    train_loss.append(epoch_loss)\n",
    "    test_loss.append(epoch_test_loss)\n",
    "    if epoch_test_loss<bestLoss:\n",
    "        bestLoss = epoch_test_loss\n",
    "        bestModel_US = model_US"
   ]
  },
  {
   "cell_type": "code",
   "execution_count": null,
   "id": "prepared-riding",
   "metadata": {},
   "outputs": [],
   "source": [
    "pltLoss(train_loss,test_loss)"
   ]
  },
  {
   "cell_type": "markdown",
   "id": "thermal-painting",
   "metadata": {},
   "source": [
    "# India Brazil Russia UK US未来预测"
   ]
  },
  {
   "cell_type": "code",
   "execution_count": null,
   "id": "western-spanish",
   "metadata": {},
   "outputs": [],
   "source": [
    "x4pred_bra = Confirmed['Brazil'][0][-sequence_length:]/np.max(Confirmed['Brazil'][0])\n",
    "x4pred_ind = Confirmed['India'][0][-sequence_length:]/np.max(Confirmed['India'][0])\n",
    "x4pred_rus = Confirmed['Russia'][0][-sequence_length:]/np.max(Confirmed['Russia'][0])\n",
    "x4pred_UK = Confirmed['United Kingdom'][0][-sequence_length:]/np.max(Confirmed['United Kingdom'][0])\n",
    "x4pred_US = Confirmed['US'][0][-sequence_length:]/np.max(Confirmed['US'][0])\n",
    "ptr = 0\n",
    "POINT_NUM = 61\n",
    "while ptr<POINT_NUM:\n",
    "    x_input = np.expand_dims(x4pred_bra[ptr:ptr+sequence_length],(0,2))\n",
    "    out = bestModel_Brazil(torch.as_tensor(x_input,dtype=torch.float).cuda())\n",
    "    out = out.cpu().detach().numpy().reshape(1,)\n",
    "    x4pred_bra = np.concatenate((x4pred_bra,out))\n",
    "    \n",
    "    x_input = np.expand_dims(x4pred_ind[ptr:ptr+sequence_length],(0,2))\n",
    "    out = bestModel_India(torch.as_tensor(x_input,dtype=torch.float).cuda())\n",
    "    out = out.cpu().detach().numpy().reshape(1,)\n",
    "    x4pred_ind = np.concatenate((x4pred_ind,out))\n",
    "    \n",
    "    x_input = np.expand_dims(x4pred_rus[ptr:ptr+sequence_length],(0,2))\n",
    "    out = bestModel_Russia(torch.as_tensor(x_input,dtype=torch.float).cuda())\n",
    "    out = out.cpu().detach().numpy().reshape(1,)\n",
    "    x4pred_rus = np.concatenate((x4pred_rus,out))\n",
    "    \n",
    "    x_input = np.expand_dims(x4pred_US[ptr:ptr+sequence_length],(0,2))\n",
    "    out = bestModel_US(torch.as_tensor(x_input,dtype=torch.float).cuda())\n",
    "    out = out.cpu().detach().numpy().reshape(1,)\n",
    "    x4pred_US = np.concatenate((x4pred_US,out))\n",
    "    \n",
    "    x_input = np.expand_dims(x4pred_UK[ptr:ptr+sequence_length],(0,2))\n",
    "    out = bestModel_UK(torch.as_tensor(x_input,dtype=torch.float).cuda())\n",
    "    out = out.cpu().detach().numpy().reshape(1,)\n",
    "    x4pred_UK = np.concatenate((x4pred_UK,out))\n",
    "    \n",
    "    ptr += 1\n",
    "x4pred_bra = x4pred_bra[-POINT_NUM:]*np.max(Confirmed['Brazil'][0])\n",
    "x4pred_ind = x4pred_ind[-POINT_NUM:]*np.max(Confirmed['India'][0])\n",
    "x4pred_rus = x4pred_rus[-POINT_NUM:]*np.max(Confirmed['Russia'][0])\n",
    "x4pred_US = x4pred_US[-POINT_NUM:]*np.max(Confirmed['US'][0])\n",
    "x4pred_UK = x4pred_UK[-POINT_NUM:]*np.max(Confirmed['United Kingdom'][0])"
   ]
  },
  {
   "cell_type": "code",
   "execution_count": null,
   "id": "exclusive-bleeding",
   "metadata": {},
   "outputs": [],
   "source": [
    "def mPlot(string,d):\n",
    "    plt.figure()\n",
    "    plt.plot(np.arange(timeLength),Confirmed[string][0])\n",
    "    plt.plot(np.arange(timeLength,timeLength+POINT_NUM),d)"
   ]
  },
  {
   "cell_type": "code",
   "execution_count": null,
   "id": "fabulous-preparation",
   "metadata": {},
   "outputs": [],
   "source": [
    "mPlot('Brazil',x4pred_bra)\n",
    "mPlot('India',x4pred_ind)\n",
    "mPlot('Russia',x4pred_rus)\n",
    "mPlot('United Kingdom',x4pred_UK)\n",
    "mPlot('US',x4pred_US)"
   ]
  },
  {
   "cell_type": "code",
   "execution_count": null,
   "id": "boxed-webmaster",
   "metadata": {},
   "outputs": [],
   "source": [
    "def calRes(x1,x2):\n",
    "    temp = np.concatenate((x1,x2))\n",
    "    return np.cumsum(temp)"
   ]
  },
  {
   "cell_type": "code",
   "execution_count": null,
   "id": "federal-warrior",
   "metadata": {},
   "outputs": [],
   "source": [
    "bra = calRes(Confirmed['Brazil'][0],x4pred_bra)\n",
    "ind = calRes(Confirmed['India'][0],x4pred_ind)\n",
    "rus = calRes(Confirmed['Russia'][0],x4pred_rus)\n",
    "UK = calRes(Confirmed['United Kingdom'][0],x4pred_UK)\n",
    "US = calRes(Confirmed['US'][0],x4pred_US)"
   ]
  },
  {
   "cell_type": "code",
   "execution_count": null,
   "id": "contemporary-professional",
   "metadata": {},
   "outputs": [],
   "source": [
    "plt.figure()\n",
    "plt.plot(bra)\n",
    "plt.plot(ind)\n",
    "plt.plot(rus)\n",
    "plt.plot(UK)\n",
    "plt.plot(US)\n",
    "plt.scatter([timeLength for _ in range(50)],np.linspace(0,np.max(US)),s=1)\n",
    "plt.legend(['Brazil','India','Russia','UK','US'])"
   ]
  },
  {
   "cell_type": "code",
   "execution_count": null,
   "id": "raising-knowing",
   "metadata": {},
   "outputs": [],
   "source": []
  }
 ],
 "metadata": {
  "kernelspec": {
   "display_name": "Python 3",
   "language": "python",
   "name": "python3"
  },
  "language_info": {
   "codemirror_mode": {
    "name": "ipython",
    "version": 3
   },
   "file_extension": ".py",
   "mimetype": "text/x-python",
   "name": "python",
   "nbconvert_exporter": "python",
   "pygments_lexer": "ipython3",
   "version": "3.8.3"
  }
 },
 "nbformat": 4,
 "nbformat_minor": 5
}
